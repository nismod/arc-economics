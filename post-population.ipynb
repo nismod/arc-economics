{
 "cells": [
  {
   "cell_type": "markdown",
   "metadata": {},
   "source": [
    "# Create GVA per capita\n",
    "\n",
    "After running `simim` to provide population scenarios"
   ]
  },
  {
   "cell_type": "code",
   "execution_count": null,
   "metadata": {},
   "outputs": [],
   "source": [
    "import glob\n",
    "import os\n",
    "\n",
    "import pandas"
   ]
  },
  {
   "cell_type": "code",
   "execution_count": null,
   "metadata": {},
   "outputs": [],
   "source": [
    "data_path = os.path.join('.', 'data_as_provided')\n",
    "output_path = os.path.join('.', 'data_processed')"
   ]
  },
  {
   "cell_type": "code",
   "execution_count": null,
   "metadata": {},
   "outputs": [],
   "source": [
    "pop_filenames = glob.glob(os.path.join(data_path, 'arc_population__*.csv'))\n",
    "econ_filenames = glob.glob(os.path.join(output_path, 'arc_gva_employment__*.csv'))"
   ]
  },
  {
   "cell_type": "code",
   "execution_count": null,
   "metadata": {},
   "outputs": [],
   "source": [
    "def process_to_per_head(pop_filename, econ_filename):\n",
    "    pop = pandas.read_csv(pop_filename)\n",
    "    gva = pandas.read_csv(econ_filename)\n",
    "    key = os.path.basename(pop_filename).replace('arc_population__', '').replace('.csv', '')\n",
    "    key2 = os.path.basename(econ_filename).replace('arc_gva_employment__', '').replace('.csv', '')\n",
    "    assert key == key2\n",
    "    gvapc = gva.merge(pop, on=['timestep', 'lad_uk_2016'])\n",
    "    gvapc['gva_per_head'] = gvapc.gva / gvapc.population\n",
    "    gvapc = gvapc[['timestep', 'lad_uk_2016', 'gva_per_head']]\n",
    "    gvapc.to_csv(os.path.join(output_path, 'arc_gva_per_head__{}.csv'.format(key)))"
   ]
  },
  {
   "cell_type": "code",
   "execution_count": null,
   "metadata": {},
   "outputs": [],
   "source": [
    "for pop, econ in zip(pop_filenames, econ_filenames):\n",
    "    process_to_per_head(pop, econ)"
   ]
  }
 ],
 "metadata": {
  "kernelspec": {
   "display_name": "Python 3",
   "language": "python",
   "name": "python3"
  },
  "language_info": {
   "codemirror_mode": {
    "name": "ipython",
    "version": 3
   },
   "file_extension": ".py",
   "mimetype": "text/x-python",
   "name": "python",
   "nbconvert_exporter": "python",
   "pygments_lexer": "ipython3",
   "version": "3.6.7"
  }
 },
 "nbformat": 4,
 "nbformat_minor": 2
}
