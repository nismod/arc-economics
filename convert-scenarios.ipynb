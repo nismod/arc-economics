{
 "cells": [
  {
   "cell_type": "code",
   "execution_count": null,
   "metadata": {},
   "outputs": [],
   "source": [
    "import os\n",
    "import re\n",
    "\n",
    "import pandas\n",
    "import requests"
   ]
  },
  {
   "cell_type": "code",
   "execution_count": null,
   "metadata": {},
   "outputs": [],
   "source": [
    "data_path = os.path.join('.', 'data_as_provided')\n",
    "output_path = os.path.join('.', 'data_processed')\n",
    "arc_scenarios_file = os.path.join(data_path, 'ARC Employment Scenarios.xlsx')\n",
    "gb_baseline_file = os.path.join(data_path, 'GVA-Employment-Productivity-All LAs.xlsx')"
   ]
  },
  {
   "cell_type": "code",
   "execution_count": null,
   "metadata": {},
   "outputs": [],
   "source": [
    "baseline = pandas.read_excel(\n",
    "    gb_baseline_file, \n",
    "    sheet_name=['GVA', 'Employment', 'Productivity'], \n",
    "    header=6, \n",
    "    index_col=0\n",
    ")"
   ]
  },
  {
   "cell_type": "code",
   "execution_count": null,
   "metadata": {},
   "outputs": [],
   "source": [
    "dfs = []\n",
    "label_lookup = {\n",
    "    'GVA': 'GVA (GBP2016m)',\n",
    "    'Employment': 'Employment (000s)',\n",
    "    'Productivity': 'Productivity (GBP2016 thousands per person in employment)'\n",
    "}\n",
    "for label, df in baseline.items():\n",
    "    df = df.dropna(\n",
    "    ).reset_index(\n",
    "    ).rename(\n",
    "        columns={'index':'lad_nm'}\n",
    "    ).melt(\n",
    "        id_vars=['lad_nm'],\n",
    "        var_name='year',\n",
    "        value_name=label_lookup[label]\n",
    "    )\n",
    "    df.lad_nm = df.lad_nm.apply(lambda nm: nm.strip())\n",
    "    df = df.set_index(\n",
    "        ['year', 'lad_nm']\n",
    "    )\n",
    "    dfs.append(df)\n",
    "    \n",
    "baseline_all = pandas.concat(dfs, axis=1, levels=['year','lad_nm'])\n",
    "baseline_all"
   ]
  },
  {
   "cell_type": "code",
   "execution_count": null,
   "metadata": {},
   "outputs": [],
   "source": [
    "40 * 380 # years * Great Britain LADs"
   ]
  },
  {
   "cell_type": "code",
   "execution_count": null,
   "metadata": {},
   "outputs": [],
   "source": [
    "variants = pandas.read_excel(\n",
    "    arc_scenarios_file,\n",
    "    sheet_name=['baseline', 'scenario 0', 'scenario 1', 'scenario 2'],\n",
    "    index_col=0\n",
    ")"
   ]
  },
  {
   "cell_type": "code",
   "execution_count": null,
   "metadata": {},
   "outputs": [],
   "source": [
    "dfs = []\n",
    "var_names = (\n",
    "    'KBS Employment', \n",
    "    'Non-KBS employment (000s)', \n",
    "    'Employment in Total (000s)', \n",
    "    'GVA in KBS', \n",
    "    'GVA in non-KBS (GBP2011m)', \n",
    "    'GVA in Total (GBP2011m)', \n",
    "    'Prod in KBS', \n",
    "    'Prod in non-KBS (GBP2011m)', \n",
    "    'Prod in Total (GBP2011m)'\n",
    ")\n",
    "for scenario, s_df in variants.items():\n",
    "    s_df.index.name = 'lad_nm'\n",
    "    s_dfs = []\n",
    "    for i, var in enumerate(var_names):     \n",
    "        step = 27\n",
    "        from_row, to_row = i*step + 1, i*step + 25\n",
    "        df = s_df.iloc[from_row:to_row, 0:37].copy()\n",
    "        df.columns = df.iloc[0]\n",
    "        df = df[2:].reset_index(\n",
    "        ).melt(\n",
    "            id_vars=['lad_nm'],\n",
    "            var_name='year',\n",
    "            value_name=var\n",
    "        )\n",
    "        df.lad_nm = df.lad_nm.apply(lambda nm: nm.strip())\n",
    "        df.year = df.year.astype('int')\n",
    "        df['scenario'] = scenario\n",
    "        df = df.set_index(\n",
    "            ['scenario', 'year', 'lad_nm']\n",
    "        )\n",
    "        s_dfs.append(df)\n",
    "    s_df_all = pandas.concat(s_dfs, axis=1, levels=['scenario', 'year', 'lad_nm'])\n",
    "    dfs.append(s_df_all)\n",
    "        \n",
    "variants_all = pandas.concat(dfs, axis=0)\n",
    "variants_all"
   ]
  },
  {
   "cell_type": "code",
   "execution_count": null,
   "metadata": {},
   "outputs": [],
   "source": [
    "37*22*4  # years * Arc LADs * scenarios"
   ]
  },
  {
   "cell_type": "markdown",
   "metadata": {},
   "source": [
    "## Convert from 2011 GBP to 2016 GBP\n",
    "\n",
    "(CPI in 2016 / CPI in 2011) × 2011 GBP value = 2016 GBP value\n",
    "\n",
    "CPIH in 2011 (index all items, 2015=100): 93.6\n",
    "\n",
    "CPIH in 2016 (index all items, 2015=100): 101\n",
    "\n",
    "Source: https://www.ons.gov.uk/economy/inflationandpriceindices/timeseries/l522/mm23"
   ]
  },
  {
   "cell_type": "code",
   "execution_count": null,
   "metadata": {},
   "outputs": [],
   "source": [
    "cpi16 = 101\n",
    "cpi11 = 93.6\n",
    "cpi11/cpi16"
   ]
  },
  {
   "cell_type": "code",
   "execution_count": null,
   "metadata": {},
   "outputs": [],
   "source": [
    "for y in range(2015,2051,5):\n",
    "    gva11 = variants_all.loc[('baseline', y, 'Cambridge')]['GVA in Total (GBP2011m)']\n",
    "    gva16 = baseline_all.loc[(y, 'Cambridge')]['GVA (GBP2016m)']  # £2016m\n",
    "    est = gva16 * (cpi11/cpi16)\n",
    "    print(\"%d, %.3f, %.3f, %.3f, %.3f, %.3f\" % (y, gva11, gva16, est, abs(gva11 - est), abs(gva11 - est)/gva11))"
   ]
  },
  {
   "cell_type": "code",
   "execution_count": null,
   "metadata": {},
   "outputs": [],
   "source": [
    "baseline_all['GVA (GBP2011m)'] = baseline_all['GVA (GBP2016m)'] * (cpi11 / cpi16)\n",
    "baseline_all['Productivity (GBP2011 thousands per person in employment)'] = \\\n",
    "    baseline_all['Productivity (GBP2016 thousands per person in employment)'] * (cpi11 / cpi16)"
   ]
  },
  {
   "cell_type": "code",
   "execution_count": null,
   "metadata": {},
   "outputs": [],
   "source": [
    "baseline_all.head()"
   ]
  },
  {
   "cell_type": "markdown",
   "metadata": {},
   "source": [
    "### Add LAD codes"
   ]
  },
  {
   "cell_type": "code",
   "execution_count": null,
   "metadata": {},
   "outputs": [],
   "source": [
    "lad_nmcds = pandas.read_csv(os.path.join(data_path, 'lad_nmcd_changes.csv'))"
   ]
  },
  {
   "cell_type": "code",
   "execution_count": null,
   "metadata": {},
   "outputs": [],
   "source": [
    "lad_nmcds = lad_nmcds[['lad11nm', 'lad11cd', 'lad16nm', 'lad16cd']]"
   ]
  },
  {
   "cell_type": "code",
   "execution_count": null,
   "metadata": {},
   "outputs": [],
   "source": [
    "baseline_all_lad_nms = set(baseline_all.reset_index().lad_nm.unique())\n",
    "all_lad_nms = set(lad_nmcds.lad11nm)"
   ]
  },
  {
   "cell_type": "code",
   "execution_count": null,
   "metadata": {},
   "outputs": [],
   "source": [
    "all_lad_nms - baseline_all_lad_nms"
   ]
  },
  {
   "cell_type": "code",
   "execution_count": null,
   "metadata": {},
   "outputs": [],
   "source": [
    "baseline_all_lad_nms - all_lad_nms"
   ]
  },
  {
   "cell_type": "code",
   "execution_count": null,
   "metadata": {},
   "outputs": [],
   "source": [
    "baseline_all = baseline_all.reset_index()\n",
    "baseline_all.lad_nm = baseline_all.lad_nm.replace({\n",
    "    'Anglesey': 'Isle of Anglesey',\n",
    "    'Dumfries & Galloway': 'Dumfries and Galloway',\n",
    "    'King`s Lynn and West Norfolk': \"King's Lynn and West Norfolk\",\n",
    "    'Rhondda, Cynon, Taff': 'Rhondda Cynon Taf'\n",
    "})"
   ]
  },
  {
   "cell_type": "code",
   "execution_count": null,
   "metadata": {},
   "outputs": [],
   "source": [
    "baseline_wlad = baseline_all.merge(lad_nmcds, left_on='lad_nm', right_on='lad11nm').drop('lad_nm', axis=1)"
   ]
  },
  {
   "cell_type": "code",
   "execution_count": null,
   "metadata": {},
   "outputs": [],
   "source": [
    "len(baseline_wlad.lad11nm.unique()), len(baseline_wlad), len(baseline_all)"
   ]
  },
  {
   "cell_type": "code",
   "execution_count": null,
   "metadata": {},
   "outputs": [],
   "source": [
    "variants_wlad = variants_all.reset_index().merge(lad_nmcds, left_on='lad_nm', right_on='lad11nm').drop('lad_nm', axis=1)"
   ]
  },
  {
   "cell_type": "code",
   "execution_count": null,
   "metadata": {},
   "outputs": [],
   "source": [
    "variants_wlad"
   ]
  },
  {
   "cell_type": "code",
   "execution_count": null,
   "metadata": {},
   "outputs": [],
   "source": [
    "len(variants_wlad.lad11nm.unique()), len(variants_wlad), len(variants_all)"
   ]
  },
  {
   "cell_type": "code",
   "execution_count": null,
   "metadata": {},
   "outputs": [],
   "source": [
    "baseline_wlad[(baseline_wlad.lad11nm != baseline_wlad.lad16nm) | (baseline_wlad.lad11cd != baseline_wlad.lad16cd)].lad16nm.unique()"
   ]
  },
  {
   "cell_type": "markdown",
   "metadata": {},
   "source": [
    "## Output data"
   ]
  },
  {
   "cell_type": "code",
   "execution_count": null,
   "metadata": {},
   "outputs": [],
   "source": [
    "baseline_wlad.to_csv(os.path.join(output_path, 'gb_baseline.csv'), index=False)"
   ]
  },
  {
   "cell_type": "code",
   "execution_count": null,
   "metadata": {},
   "outputs": [],
   "source": [
    "variants_wlad.to_csv(os.path.join(output_path, 'arc_variants.csv'), index=False)"
   ]
  },
  {
   "cell_type": "markdown",
   "metadata": {},
   "source": [
    "### Merged, separate file-per-scenario"
   ]
  },
  {
   "cell_type": "code",
   "execution_count": null,
   "metadata": {},
   "outputs": [],
   "source": [
    "base = baseline_wlad[\n",
    "    ['year', 'Employment (000s)', 'GVA (GBP2011m)', 'lad11nm', 'lad11cd', 'lad16nm', 'lad16cd']\n",
    "].rename(columns={\n",
    "    'Employment (000s)': 'employment', \n",
    "    'GVA (GBP2011m)': 'gva'\n",
    "})\n",
    "base = base[base.year.isin(range(2015, 2051))]\n",
    "len(base)"
   ]
  },
  {
   "cell_type": "markdown",
   "metadata": {},
   "source": [
    "### Project Northern rGVA by LAD and sector\n",
    "\n",
    "Look at projection for Northern Ireland based on 2015 industry composition, UK average growth"
   ]
  },
  {
   "cell_type": "code",
   "execution_count": null,
   "metadata": {},
   "outputs": [],
   "source": [
    "def download(url, filename, force=False):\n",
    "    if force or not os.path.exists(filename):\n",
    "        r = requests.get(url, stream=True)\n",
    "        with open(filename, 'wb') as fd:\n",
    "            for chunk in r.iter_content(chunk_size=128):\n",
    "                fd.write(chunk)"
   ]
  },
  {
   "cell_type": "code",
   "execution_count": null,
   "metadata": {},
   "outputs": [],
   "source": [
    "# Regional gross value added (balanced) by local authority in the UK (released December 2017)\n",
    "# see https://www.ons.gov.uk/economy/grossvalueaddedgva/datasets/regionalgrossvalueaddedbalancedlocalauthoritiesbynuts1region\n",
    "# Northern Ireland (1998 to 2017)\n",
    "rgva_ind_url = \"https://www.ons.gov.uk/file?uri=/economy/grossvalueaddedgva/datasets/regionalgrossvalueaddedbalancedlocalauthoritiesbynuts1region/uknnorthernireland/regionalgvabbylauknnorthernireland.xlsx\"\n",
    "download(rgva_ind_url, os.path.join(data_path, 'rgva_ni_industry.xlsx'))"
   ]
  },
  {
   "cell_type": "code",
   "execution_count": null,
   "metadata": {},
   "outputs": [],
   "source": [
    "# Nominal and real regional gross value added (balanced) by industry, NUTS1, NUTS2, NUTS3, 1998-2017\n",
    "rgva_uk_ind_url = \"https://www.ons.gov.uk/file?uri=/economy/grossvalueaddedgva/datasets/nominalandrealregionalgrossvalueaddedbalancedbyindustry/current/nominalandrealregionalgvabbyindustry.xlsx\"\n",
    "download(rgva_uk_ind_url, os.path.join(data_path, 'rgva_uk_industry.xlsx'))"
   ]
  },
  {
   "cell_type": "code",
   "execution_count": null,
   "metadata": {},
   "outputs": [],
   "source": [
    "rgva = pandas.read_excel(\n",
    "    os.path.join(data_path, 'rgva_uk_industry.xlsx'), \n",
    "    sheet_name='Table3c', \n",
    "    header=1)"
   ]
  },
  {
   "cell_type": "code",
   "execution_count": null,
   "metadata": {},
   "outputs": [],
   "source": [
    "rgva = rgva[:13783]  # skip footnotes"
   ]
  },
  {
   "cell_type": "code",
   "execution_count": null,
   "metadata": {},
   "outputs": [],
   "source": [
    "# pick division-level values (avoid double-count sectors, total)\n",
    "p = re.compile('^\\d')\n",
    "rgva = rgva[rgva.SIC07.apply(lambda sic: bool(re.match(p, str(sic))))]"
   ]
  },
  {
   "cell_type": "code",
   "execution_count": null,
   "metadata": {},
   "outputs": [],
   "source": [
    "lad_nuts3_lu_url = \"http://geoportal1-ons.opendata.arcgis.com/datasets/e1e5de6c5fcc40c78adb03d84a2d299d_0.csv\"\n",
    "download(lad_nuts3_lu_url, os.path.join(data_path, \"lad_nuts_lu.csv\"))\n",
    "lad_nuts = pandas.read_csv(os.path.join(data_path, 'lad_nuts_lu.csv'))\n",
    "lad_nuts = lad_nuts[['LAD16CD', 'LAD16NM', 'NUTS318CD']].sort_values('LAD16CD').drop_duplicates().rename(columns={\n",
    "    'LAD16CD': 'lad16cd',\n",
    "    'LAD16NM': 'lad16nm',\n",
    "    'NUTS318CD': 'nuts318cd'\n",
    "})\n",
    "lad_nuts.head(), len(lad_nuts), len(lad_nuts.lad16cd.unique())"
   ]
  },
  {
   "cell_type": "code",
   "execution_count": null,
   "metadata": {},
   "outputs": [],
   "source": [
    "rgva15 = rgva.merge(\n",
    "    lad_nuts, left_on='Region code', right_on='nuts318cd', how='outer'\n",
    ").rename(columns={\n",
    "    'Region name': 'nuts318nm',\n",
    "    2015: 'gva15_nuts_division_group',\n",
    "    'SIC07': 'sic07_division_group',\n",
    "    'SIC07 description': 'sic07_division_group_description'\n",
    "})[[\n",
    "    'lad16cd',\n",
    "    'lad16nm',\n",
    "    'nuts318cd',\n",
    "    'nuts318nm',\n",
    "    'sic07_division_group',\n",
    "    'sic07_division_group_description',\n",
    "    'gva15_nuts_division_group'\n",
    "]]\n",
    "rgva15.sic07_division_group = rgva15.sic07_division_group.astype(str)\n",
    "rgva15"
   ]
  },
  {
   "cell_type": "code",
   "execution_count": null,
   "metadata": {},
   "outputs": [],
   "source": [
    "sector_map = pandas.read_csv(os.path.join('data_as_provided','map_sectors.csv'))\n",
    "sector_map"
   ]
  },
  {
   "cell_type": "code",
   "execution_count": null,
   "metadata": {},
   "outputs": [],
   "source": [
    "rgva15s = rgva15.merge(sector_map, on='sic07_division_group', how='outer').dropna()\n",
    "rgva15s"
   ]
  },
  {
   "cell_type": "markdown",
   "metadata": {},
   "source": [
    "### Disaggregate UK 2015 rGVA to LADs and SIC07 divisions\n",
    "\n",
    "Very coarse, purely proportional split - could be improved e.g. by using BRES employment industry percentage figures for current split to full divisions"
   ]
  },
  {
   "cell_type": "code",
   "execution_count": null,
   "metadata": {},
   "outputs": [],
   "source": [
    "count_for_disagg = rgva15s.groupby(['nuts318cd', 'sic07_division_group']).count()[['lad16cd']]\n",
    "count_for_disagg.columns = ['nuts_division_group_count']\n",
    "count_for_disagg = count_for_disagg.reset_index()\n",
    "rgva15sd = rgva15s.merge(count_for_disagg,on=['nuts318cd', 'sic07_division_group'], how='left')\n",
    "rgva15sd"
   ]
  },
  {
   "cell_type": "code",
   "execution_count": null,
   "metadata": {},
   "outputs": [],
   "source": [
    "rgva15sd['gva15_lad_division'] = rgva15sd.gva15_nuts_division_group / rgva15sd.nuts_division_group_count\n",
    "rgva15_lad_division = rgva15sd[[\n",
    "    'lad16cd', 'itrc_sector', 'sic07_division', 'is_knowledge_based', 'gva15_lad_division'\n",
    "]]\n",
    "rgva15_lad_division.head()"
   ]
  },
  {
   "cell_type": "code",
   "execution_count": null,
   "metadata": {},
   "outputs": [],
   "source": [
    "sum_for_disagg = rgva15_lad_division.groupby(['lad16cd']).sum()[['gva15_lad_division']]\n",
    "sum_for_disagg.columns = ['gva15_lad_total']\n",
    "rgva15_lad_division_d = rgva15_lad_division.merge(sum_for_disagg.reset_index(), on='lad16cd')\n",
    "rgva15_lad_division_d['gva15_lad_division_proportion'] = rgva15_lad_division_d.gva15_lad_division / rgva15_lad_division_d.gva15_lad_total\n",
    "rgva15_lad_division_d.head()"
   ]
  },
  {
   "cell_type": "markdown",
   "metadata": {},
   "source": [
    "### Project NI regions as proportion of NI total\n",
    "\n",
    "Where future NI total is projected assuming NI growth equals GB growth:\n",
    "\n",
    "NI GVA in 2015 * (GB GVA in future year / GB GVA in 2015) = NI GVA in future year\n",
    "\n",
    "And NI future regional/sectoral GVA follows the same proportional structure as in 2015."
   ]
  },
  {
   "cell_type": "code",
   "execution_count": null,
   "metadata": {},
   "outputs": [],
   "source": [
    "ni_rgva = rgva15_lad_division_d[rgva15_lad_division_d.lad16cd.str.startswith('N')].copy()\n",
    "ni_rgva.sort_values(['lad16cd', 'sic07_division']).head()"
   ]
  },
  {
   "cell_type": "code",
   "execution_count": null,
   "metadata": {},
   "outputs": [],
   "source": [
    "ni_rgva_for_proj = ni_rgva[['lad16cd', 'gva15_lad_total']].drop_duplicates()\n",
    "ni_rgva_for_proj['gva15_lad_ni_proportion'] = ni_rgva_for_proj.gva15_lad_total / ni_rgva_for_proj.gva15_lad_total.sum()\n",
    "ni_rgva_for_proj"
   ]
  },
  {
   "cell_type": "code",
   "execution_count": null,
   "metadata": {},
   "outputs": [],
   "source": [
    "total_ni_rgva15 = ni_rgva_for_proj.gva15_lad_total.sum()\n",
    "total_ni_rgva15"
   ]
  },
  {
   "cell_type": "code",
   "execution_count": null,
   "metadata": {},
   "outputs": [],
   "source": [
    "total_uk_rgva15 = rgva15_lad_division_d.gva15_lad_division.sum()\n",
    "total_uk_rgva15"
   ]
  },
  {
   "cell_type": "code",
   "execution_count": null,
   "metadata": {},
   "outputs": [],
   "source": [
    "total_gb_rgva15 = total_uk_rgva15 - total_ni_rgva15\n",
    "total_gb_rgva15"
   ]
  },
  {
   "cell_type": "code",
   "execution_count": null,
   "metadata": {},
   "outputs": [],
   "source": [
    "gb_base = base.copy()[['year', 'lad16cd', 'gva', 'employment']]\n",
    "gb_base.head()"
   ]
  },
  {
   "cell_type": "code",
   "execution_count": null,
   "metadata": {},
   "outputs": [],
   "source": [
    "gb_growth = gb_base.groupby('year').sum()[['gva']].reset_index()\n",
    "gb_growth.head()"
   ]
  },
  {
   "cell_type": "code",
   "execution_count": null,
   "metadata": {},
   "outputs": [],
   "source": [
    "dfs = []\n",
    "for year in gb_growth.year:\n",
    "    df = ni_rgva_for_proj.copy()\n",
    "    df['year'] = year\n",
    "    gb_future = float(gb_growth[gb_growth.year == year].gva)\n",
    "    ni_future = total_ni_rgva15 * (gb_future / total_gb_rgva15)\n",
    "    df['gva'] = df.gva15_lad_ni_proportion * ni_future\n",
    "    dfs.append(df)\n",
    "    \n",
    "ni_base = pandas.concat(dfs, axis=0)[['year', 'lad16cd', 'gva']]\n",
    "ni_base.head()"
   ]
  },
  {
   "cell_type": "code",
   "execution_count": null,
   "metadata": {},
   "outputs": [],
   "source": [
    "full_base = pandas.concat(\n",
    "    [gb_base, ni_base], axis=0, sort=False\n",
    ").sort_values(\n",
    "    ['year', 'lad16cd']\n",
    ").rename(\n",
    "    columns={'year': 'timestep',}\n",
    ")\n",
    "len(full_base), len(full_base.lad16cd.unique()), len(full_base.timestep.unique())"
   ]
  },
  {
   "cell_type": "code",
   "execution_count": null,
   "metadata": {},
   "outputs": [],
   "source": [
    "391 * 36"
   ]
  },
  {
   "cell_type": "code",
   "execution_count": null,
   "metadata": {},
   "outputs": [],
   "source": [
    "full_base.to_csv(os.path.join(output_path, 'arc_gva_employment__baseline.csv'), index=False)"
   ]
  },
  {
   "cell_type": "markdown",
   "metadata": {},
   "source": [
    "### Stitch scenario projections with baseline UK (GVA by LAD)"
   ]
  },
  {
   "cell_type": "code",
   "execution_count": null,
   "metadata": {},
   "outputs": [],
   "source": [
    "scenario_base = full_base[~full_base.lad16cd.isin(variants_wlad.lad16cd.unique())]\n",
    "len(scenario_base)"
   ]
  },
  {
   "cell_type": "code",
   "execution_count": null,
   "metadata": {},
   "outputs": [],
   "source": [
    "(391 - 22) * 36"
   ]
  },
  {
   "cell_type": "code",
   "execution_count": null,
   "metadata": {},
   "outputs": [],
   "source": [
    "scenario_base.head()"
   ]
  },
  {
   "cell_type": "code",
   "execution_count": null,
   "metadata": {},
   "outputs": [],
   "source": [
    "vard = {}\n",
    "\n",
    "for scenario in ('scenario 0', 'scenario 1', 'scenario 2'):\n",
    "    var = variants_wlad[\n",
    "        variants_wlad.scenario == scenario\n",
    "    ][\n",
    "        ['year', 'Employment in Total (000s)', 'GVA in Total (GBP2011m)', 'lad16cd']\n",
    "    ].rename(columns={\n",
    "        'year': 'timestep',\n",
    "        'Employment in Total (000s)': 'employment',\n",
    "        'GVA in Total (GBP2011m)': 'gva'\n",
    "    })\n",
    "    var = var[var.timestep.isin(range(2015, 2051))].copy()\n",
    "    vard[scenario] = var\n",
    "\n",
    "    print(len(var))"
   ]
  },
  {
   "cell_type": "code",
   "execution_count": null,
   "metadata": {},
   "outputs": [],
   "source": [
    "22 * 36"
   ]
  },
  {
   "cell_type": "code",
   "execution_count": null,
   "metadata": {},
   "outputs": [],
   "source": [
    "vard['scenario 0'].head()"
   ]
  },
  {
   "cell_type": "code",
   "execution_count": null,
   "metadata": {},
   "outputs": [],
   "source": [
    "for scenario, key in (('scenario 0', 'unplanned'), ('scenario 1', 'new-cities'), ('scenario 2', 'expansion')):\n",
    "    stitch = pandas.concat([scenario_base, vard[scenario]], axis=0, sort=False).sort_values(['timestep', 'lad16cd'])\n",
    "    stitch.to_csv(os.path.join(output_path, 'arc_gva_employment__{}.csv'.format(key)), index=False)\n",
    "    print(len(stitch))"
   ]
  },
  {
   "cell_type": "markdown",
   "metadata": {},
   "source": [
    "### Disaggregate projections by SIC07 division, reaggregate to ITRC sector\n",
    "\n",
    "Assuming constant sectoral shares of GVA, projected LAD sectoral GVA is (projected LAD GVA * (current LAD sectoral GVA / current LAD GVA)."
   ]
  },
  {
   "cell_type": "code",
   "execution_count": null,
   "metadata": {},
   "outputs": [],
   "source": [
    "full_base_disagg = full_base.merge(rgva15_lad_division_d, on='lad16cd', how='outer')\n",
    "full_base_disagg = disagg.groupby(\n",
    "    ['timestep', 'lad16cd', 'itrc_sector']\n",
    ").sum().reset_index()[\n",
    "    ['timestep', 'lad16cd', 'itrc_sector', 'gva_lad_division']\n",
    "].dropna().rename(\n",
    "    columns={'gva_lad_division': 'gva_per_sector'}\n",
    ")\n",
    "full_base_disagg.head()"
   ]
  },
  {
   "cell_type": "code",
   "execution_count": null,
   "metadata": {},
   "outputs": [],
   "source": [
    "disagg_d = {}\n",
    "for scenario, key in (('scenario 0', 'unplanned'), ('scenario 1', 'new-cities'), ('scenario 2', 'expansion')):\n",
    "    stitch = pandas.concat([scenario_base, vard[scenario]], axis=0, sort=False).sort_values(['timestep', 'lad16cd'])\n",
    "    disagg = stitch.merge(rgva15_lad_division_d, on='lad16cd', how='outer')\n",
    "    disagg['gva_lad_division'] = disagg.gva * disagg.gva15_lad_division_proportion\n",
    "    output = disagg.groupby(\n",
    "        ['timestep', 'lad16cd', 'itrc_sector']\n",
    "    ).sum().reset_index()[\n",
    "        ['timestep', 'lad16cd', 'itrc_sector', 'gva_lad_division']\n",
    "    ].dropna().rename(\n",
    "        columns={'gva_lad_division': 'gva_per_sector'}\n",
    "    )\n",
    "    disagg_d[key] = output"
   ]
  },
  {
   "cell_type": "code",
   "execution_count": null,
   "metadata": {},
   "outputs": [],
   "source": [
    "len(output), len(output.timestep.unique()), len(output.lad16cd.unique()), len(output.itrc_sector.unique())"
   ]
  },
  {
   "cell_type": "code",
   "execution_count": null,
   "metadata": {},
   "outputs": [],
   "source": [
    "36 * 391 * 46"
   ]
  },
  {
   "cell_type": "code",
   "execution_count": null,
   "metadata": {},
   "outputs": [],
   "source": [
    "energy_demand_sector_subset = [2, 3, 4, 5, 6, 8, 9, 10, 11, 12, 14, 15, 17, 19, 23, 27, 28, 29, 35, 40, 41]\n",
    "len(energy_demand_sector_subset)"
   ]
  },
  {
   "cell_type": "code",
   "execution_count": null,
   "metadata": {},
   "outputs": [],
   "source": [
    "ed_base_disagg = full_base_disagg[full_base_disagg.itrc_sector.isin(energy_demand_sector_subset)].rename(\n",
    "    columns={'itrc_sector': 'sectors'}\n",
    ")\n",
    "len(ed_base_disagg)"
   ]
  },
  {
   "cell_type": "code",
   "execution_count": null,
   "metadata": {},
   "outputs": [],
   "source": [
    "36 * 391 * 21"
   ]
  },
  {
   "cell_type": "code",
   "execution_count": null,
   "metadata": {},
   "outputs": [],
   "source": [
    "ed_base_disagg.to_csv(\n",
    "    os.path.join(output_path, 'arc_gva_sector__baseline.csv'), index=False\n",
    ")"
   ]
  },
  {
   "cell_type": "code",
   "execution_count": null,
   "metadata": {},
   "outputs": [],
   "source": [
    "for key, df in disagg_d.items():\n",
    "    df.rename(\n",
    "        columns={'itrc_sector': 'sectors'}\n",
    "    ).to_csv(\n",
    "        os.path.join(output_path, 'arc_gva_sector__{}.csv'.format(key)), index=False\n",
    "    )"
   ]
  }
 ],
 "metadata": {
  "kernelspec": {
   "display_name": "Python 3",
   "language": "python",
   "name": "python3"
  },
  "language_info": {
   "codemirror_mode": {
    "name": "ipython",
    "version": 3
   },
   "file_extension": ".py",
   "mimetype": "text/x-python",
   "name": "python",
   "nbconvert_exporter": "python",
   "pygments_lexer": "ipython3",
   "version": "3.6.7"
  }
 },
 "nbformat": 4,
 "nbformat_minor": 2
}
