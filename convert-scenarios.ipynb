{
 "cells": [
  {
   "cell_type": "code",
   "execution_count": null,
   "metadata": {},
   "outputs": [],
   "source": [
    "import os\n",
    "\n",
    "import pandas"
   ]
  },
  {
   "cell_type": "code",
   "execution_count": null,
   "metadata": {},
   "outputs": [],
   "source": [
    "data_path = os.path.join('.', 'data_as_provided')\n",
    "output_path = os.path.join('.', 'data_processed')\n",
    "arc_scenarios_file = os.path.join(data_path, 'ARC Employment Scenarios.xlsx')\n",
    "gb_baseline_file = os.path.join(data_path, 'GVA-Employment-Productivity-All LAs.xlsx')"
   ]
  },
  {
   "cell_type": "code",
   "execution_count": null,
   "metadata": {},
   "outputs": [],
   "source": [
    "baseline = pandas.read_excel(\n",
    "    gb_baseline_file, \n",
    "    sheet_name=['GVA', 'Employment', 'Productivity'], \n",
    "    header=6, \n",
    "    index_col=0\n",
    ")"
   ]
  },
  {
   "cell_type": "code",
   "execution_count": null,
   "metadata": {},
   "outputs": [],
   "source": [
    "dfs = []\n",
    "label_lookup = {\n",
    "    'GVA': 'GVA (GBP2016m)',\n",
    "    'Employment': 'Employment (000s)',\n",
    "    'Productivity': 'Productivity (GBP2016 thousands per person in employment)'\n",
    "}\n",
    "for label, df in baseline.items():\n",
    "    df = df.dropna(\n",
    "    ).reset_index(\n",
    "    ).rename(\n",
    "        columns={'index':'lad_nm'}\n",
    "    ).melt(\n",
    "        id_vars=['lad_nm'],\n",
    "        var_name='year',\n",
    "        value_name=label_lookup[label]\n",
    "    )\n",
    "    df.lad_nm = df.lad_nm.apply(lambda nm: nm.strip())\n",
    "    df = df.set_index(\n",
    "        ['year', 'lad_nm']\n",
    "    )\n",
    "    dfs.append(df)\n",
    "    \n",
    "baseline_all = pandas.concat(dfs, axis=1, levels=['year','lad_nm'])\n",
    "baseline_all"
   ]
  },
  {
   "cell_type": "code",
   "execution_count": null,
   "metadata": {},
   "outputs": [],
   "source": [
    "40 * 380 # years * Great Britain LADs"
   ]
  },
  {
   "cell_type": "code",
   "execution_count": null,
   "metadata": {},
   "outputs": [],
   "source": [
    "variants = pandas.read_excel(\n",
    "    arc_scenarios_file,\n",
    "    sheet_name=['baseline', 'scenario 0', 'scenario 1', 'scenario 2'],\n",
    "    index_col=0\n",
    ")"
   ]
  },
  {
   "cell_type": "code",
   "execution_count": null,
   "metadata": {},
   "outputs": [],
   "source": [
    "dfs = []\n",
    "var_names = (\n",
    "    'KBS Employment', \n",
    "    'Non-KBS employment (000s)', \n",
    "    'Employment in Total (000s)', \n",
    "    'GVA in KBS', \n",
    "    'GVA in non-KBS (GBP2011m)', \n",
    "    'GVA in Total (GBP2011m)', \n",
    "    'Prod in KBS', \n",
    "    'Prod in non-KBS (GBP2011m)', \n",
    "    'Prod in Total (GBP2011m)'\n",
    ")\n",
    "for scenario, s_df in variants.items():\n",
    "    s_df.index.name = 'lad_nm'\n",
    "    s_dfs = []\n",
    "    for i, var in enumerate(var_names):     \n",
    "        step = 27\n",
    "        from_row, to_row = i*step + 1, i*step + 25\n",
    "        df = s_df.iloc[from_row:to_row, 0:37].copy()\n",
    "        df.columns = df.iloc[0]\n",
    "        df = df[2:].reset_index(\n",
    "        ).melt(\n",
    "            id_vars=['lad_nm'],\n",
    "            var_name='year',\n",
    "            value_name=var\n",
    "        )\n",
    "        df.lad_nm = df.lad_nm.apply(lambda nm: nm.strip())\n",
    "        df.year = df.year.astype('int')\n",
    "        df['scenario'] = scenario\n",
    "        df = df.set_index(\n",
    "            ['scenario', 'year', 'lad_nm']\n",
    "        )\n",
    "        s_dfs.append(df)\n",
    "    s_df_all = pandas.concat(s_dfs, axis=1, levels=['scenario', 'year', 'lad_nm'])\n",
    "    dfs.append(s_df_all)\n",
    "        \n",
    "variants_all = pandas.concat(dfs, axis=0)\n",
    "variants_all"
   ]
  },
  {
   "cell_type": "code",
   "execution_count": null,
   "metadata": {},
   "outputs": [],
   "source": [
    "37*22*4  # years * Arc LADs * scenarios"
   ]
  },
  {
   "cell_type": "markdown",
   "metadata": {},
   "source": [
    "## Convert from 2011 GBP to 2016 GBP\n",
    "\n",
    "(CPI in 2016 / CPI in 2011) × 2011 GBP value = 2016 GBP value\n",
    "\n",
    "CPIH in 2011 (index all items, 2015=100): 93.6\n",
    "\n",
    "CPIH in 2016 (index all items, 2015=100): 101\n",
    "\n",
    "Source: https://www.ons.gov.uk/economy/inflationandpriceindices/timeseries/l522/mm23"
   ]
  },
  {
   "cell_type": "code",
   "execution_count": null,
   "metadata": {},
   "outputs": [],
   "source": [
    "cpi16 = 101\n",
    "cpi11 = 93.6\n",
    "cpi11/cpi16"
   ]
  },
  {
   "cell_type": "code",
   "execution_count": null,
   "metadata": {},
   "outputs": [],
   "source": [
    "for y in range(2015,2051,5):\n",
    "    gva11 = variants_all.loc[('baseline', y, 'Cambridge')]['GVA in Total (GBP2011m)']\n",
    "    gva16 = baseline_all.loc[(y, 'Cambridge')]['GVA (GBP2016m)']  # £2016m\n",
    "    est = gva16 * (cpi11/cpi16)\n",
    "    print(\"%d, %.3f, %.3f, %.3f, %.3f, %.3f\" % (y, gva11, gva16, est, abs(gva11 - est), abs(gva11 - est)/gva11))"
   ]
  },
  {
   "cell_type": "code",
   "execution_count": null,
   "metadata": {},
   "outputs": [],
   "source": [
    "baseline_all['GVA (GBP2011m)'] = baseline_all['GVA (GBP2016m)'] * (cpi11 / cpi16)\n",
    "baseline_all['Productivity (GBP2011 thousands per person in employment)'] = \\\n",
    "    baseline_all['Productivity (GBP2016 thousands per person in employment)'] * (cpi11 / cpi16)"
   ]
  },
  {
   "cell_type": "code",
   "execution_count": null,
   "metadata": {},
   "outputs": [],
   "source": [
    "baseline_all.head()"
   ]
  },
  {
   "cell_type": "markdown",
   "metadata": {},
   "source": [
    "### Add LAD codes"
   ]
  },
  {
   "cell_type": "code",
   "execution_count": null,
   "metadata": {},
   "outputs": [],
   "source": [
    "lad_nmcds = pandas.read_csv(os.path.join(data_path, 'lad_nmcd_changes.csv'))"
   ]
  },
  {
   "cell_type": "code",
   "execution_count": null,
   "metadata": {},
   "outputs": [],
   "source": [
    "lad_nmcds = lad_nmcds[['lad11nm', 'lad11cd', 'lad18nm', 'lad18cd']]"
   ]
  },
  {
   "cell_type": "code",
   "execution_count": null,
   "metadata": {},
   "outputs": [],
   "source": [
    "baseline_all_lad_nms = set(baseline_all.reset_index().lad_nm.unique())\n",
    "all_lad_nms = set(lad_nmcds.lad11nm)"
   ]
  },
  {
   "cell_type": "code",
   "execution_count": null,
   "metadata": {},
   "outputs": [],
   "source": [
    "all_lad_nms - baseline_all_lad_nms"
   ]
  },
  {
   "cell_type": "code",
   "execution_count": null,
   "metadata": {},
   "outputs": [],
   "source": [
    "baseline_all_lad_nms - all_lad_nms"
   ]
  },
  {
   "cell_type": "code",
   "execution_count": null,
   "metadata": {},
   "outputs": [],
   "source": [
    "baseline_all = baseline_all.reset_index()\n",
    "baseline_all.lad_nm = baseline_all.lad_nm.replace({\n",
    "    'Anglesey': 'Isle of Anglesey',\n",
    "    'Dumfries & Galloway': 'Dumfries and Galloway',\n",
    "    'King`s Lynn and West Norfolk': \"King's Lynn and West Norfolk\",\n",
    "    'Perth and Kinross': 'Perth & Kinross',\n",
    "    'Rhondda, Cynon, Taff': 'Rhondda Cynon Taf'\n",
    "})"
   ]
  },
  {
   "cell_type": "code",
   "execution_count": null,
   "metadata": {},
   "outputs": [],
   "source": [
    "baseline_wlad = baseline_all.merge(lad_nmcds, left_on='lad_nm', right_on='lad11nm').drop('lad_nm', axis=1)"
   ]
  },
  {
   "cell_type": "code",
   "execution_count": null,
   "metadata": {},
   "outputs": [],
   "source": [
    "len(baseline_wlad.lad11nm.unique()), len(baseline_wlad), len(baseline_all)"
   ]
  },
  {
   "cell_type": "code",
   "execution_count": null,
   "metadata": {},
   "outputs": [],
   "source": [
    "variants_wlad = variants_all.reset_index().merge(lad_nmcds, left_on='lad_nm', right_on='lad11nm').drop('lad_nm', axis=1)"
   ]
  },
  {
   "cell_type": "code",
   "execution_count": null,
   "metadata": {},
   "outputs": [],
   "source": [
    "len(variants_wlad.lad11nm.unique()), len(variants_wlad), len(variants_all)"
   ]
  },
  {
   "cell_type": "code",
   "execution_count": null,
   "metadata": {},
   "outputs": [],
   "source": [
    "baseline_wlad[(baseline_wlad.lad11nm != baseline_wlad.lad18nm) | (baseline_wlad.lad11cd != baseline_wlad.lad18cd)].lad18nm.unique()"
   ]
  },
  {
   "cell_type": "markdown",
   "metadata": {},
   "source": [
    "## Output data"
   ]
  },
  {
   "cell_type": "code",
   "execution_count": null,
   "metadata": {},
   "outputs": [],
   "source": [
    "baseline_wlad.to_csv(os.path.join(output_path, 'gb_baseline.csv'), index=False)"
   ]
  },
  {
   "cell_type": "code",
   "execution_count": null,
   "metadata": {},
   "outputs": [],
   "source": [
    "variants_wlad.to_csv(os.path.join(output_path, 'arc_variants.csv'), index=False)"
   ]
  },
  {
   "cell_type": "markdown",
   "metadata": {},
   "source": [
    "### Merged, separate file-per-scenario"
   ]
  },
  {
   "cell_type": "code",
   "execution_count": null,
   "metadata": {},
   "outputs": [],
   "source": [
    "base = baseline_wlad[\n",
    "    ['year', 'Employment (000s)', 'GVA (GBP2011m)', 'lad11nm', 'lad11cd', 'lad18nm', 'lad18cd']\n",
    "].rename(columns={\n",
    "    'Employment (000s)': 'employment', \n",
    "    'GVA (GBP2011m)': 'gva'\n",
    "})\n",
    "base = base[~base.lad11cd.isin(variants_wlad.lad11cd.unique())]\n",
    "base = base[base.year.isin(range(2014, 2051))]\n",
    "len(base)"
   ]
  },
  {
   "cell_type": "code",
   "execution_count": null,
   "metadata": {},
   "outputs": [],
   "source": [
    "358 * 37"
   ]
  },
  {
   "cell_type": "code",
   "execution_count": null,
   "metadata": {},
   "outputs": [],
   "source": [
    "base.head()"
   ]
  },
  {
   "cell_type": "code",
   "execution_count": null,
   "metadata": {},
   "outputs": [],
   "source": [
    "vard = {}\n",
    "\n",
    "for scenario in ('baseline', 'scenario 0', 'scenario 1', 'scenario 2'):\n",
    "    var = variants_wlad[\n",
    "        variants_wlad.scenario == scenario\n",
    "    ][\n",
    "        ['year', 'Employment in Total (000s)', 'GVA in Total (GBP2011m)', 'lad11nm', 'lad11cd', 'lad18nm', 'lad18cd']\n",
    "    ].rename(columns={\n",
    "        'Employment in Total (000s)': 'employment',\n",
    "        'GVA in Total (GBP2011m)': 'gva'\n",
    "    })\n",
    "    var = var[var.year.isin(range(2014, 2051))].copy()\n",
    "    vard[scenario] = var\n",
    "\n",
    "    print(len(var))"
   ]
  },
  {
   "cell_type": "code",
   "execution_count": null,
   "metadata": {},
   "outputs": [],
   "source": [
    "22 * 37"
   ]
  },
  {
   "cell_type": "code",
   "execution_count": null,
   "metadata": {},
   "outputs": [],
   "source": [
    "vard['baseline'].head()"
   ]
  },
  {
   "cell_type": "code",
   "execution_count": null,
   "metadata": {},
   "outputs": [],
   "source": [
    "for scenario in ('baseline', 'scenario 0', 'scenario 1', 'scenario 2'):\n",
    "    stitch = pandas.concat([base, vard[scenario]])\n",
    "    stitch.to_csv(os.path.join(output_path, 'arc_gva_employment__{}.csv'.format(scenario.replace(\" \", \"\"))), index=False)\n",
    "    print(len(stitch))"
   ]
  },
  {
   "cell_type": "code",
   "execution_count": null,
   "metadata": {},
   "outputs": [],
   "source": [
    "37 * 380"
   ]
  }
 ],
 "metadata": {
  "kernelspec": {
   "display_name": "Python 3",
   "language": "python",
   "name": "python3"
  },
  "language_info": {
   "codemirror_mode": {
    "name": "ipython",
    "version": 3
   },
   "file_extension": ".py",
   "mimetype": "text/x-python",
   "name": "python",
   "nbconvert_exporter": "python",
   "pygments_lexer": "ipython3",
   "version": "3.6.7"
  }
 },
 "nbformat": 4,
 "nbformat_minor": 2
}
