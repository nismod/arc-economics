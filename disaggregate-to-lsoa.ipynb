{
 "cells": [
  {
   "cell_type": "markdown",
   "metadata": {},
   "source": [
    "# Disaggregate employment projections to LSOA\n",
    "\n",
    "Using:\n",
    "1. Business Register and Employment Survey (BRES) open-access estimates of employment taken from Nomis\n",
    "2. LAD projections provided by Cambridge Econometrics and processed by `convert-scenarios.ipynb` \n",
    "\n",
    "Disaggregate projections of total employment to Lower Super Output Area (LSOA) for the years 2015-2050.\n",
    "\n"
   ]
  },
  {
   "cell_type": "code",
   "execution_count": null,
   "metadata": {},
   "outputs": [],
   "source": [
    "import os\n",
    "\n",
    "import geopandas\n",
    "import pandas"
   ]
  },
  {
   "cell_type": "code",
   "execution_count": null,
   "metadata": {},
   "outputs": [],
   "source": [
    "SCENARIOS = ('baseline', '0-unplanned', '1-new-cities', '2-expansion')"
   ]
  },
  {
   "cell_type": "code",
   "execution_count": null,
   "metadata": {},
   "outputs": [],
   "source": [
    "# read and combine employment scenarios\n",
    "dfs = []\n",
    "for scenario in SCENARIOS:\n",
    "    df = pandas.read_csv(os.path.join(\"data_processed\", f\"arc_employment__{scenario}.csv\"))\n",
    "    df['scenario'] = scenario\n",
    "    dfs.append(df)\n",
    "lad_employment = pandas.concat(dfs)\n",
    "\n",
    "# check length\n",
    "expected_length = 391 * 36 * 4\n",
    "msg = f\"Expected {len(lad_employment)} == {expected_length} LADs * years * scenarios\"\n",
    "assert len(lad_employment) == expected_length, msg\n",
    "\n",
    "# print extract\n",
    "lad_employment.tail(1)"
   ]
  },
  {
   "cell_type": "code",
   "execution_count": null,
   "metadata": {},
   "outputs": [],
   "source": [
    "def download(url, filename, force=False):\n",
    "    if force or not os.path.exists(filename):\n",
    "        import requests\n",
    "        r = requests.get(url, stream=True)\n",
    "        with open(filename, 'wb') as fd:\n",
    "            for chunk in r.iter_content(chunk_size=128):\n",
    "                fd.write(chunk)\n",
    "\n",
    "def unzip(path, parent):\n",
    "    import zipfile\n",
    "    with zipfile.ZipFile(path, 'r') as zip_ref:\n",
    "        zip_ref.extractall(parent)"
   ]
  },
  {
   "cell_type": "code",
   "execution_count": null,
   "metadata": {},
   "outputs": [],
   "source": [
    "# Output Area to Lower Layer Super Output Area to Middle Layer Super Output Area to Local Authority District (December 2011) Lookup in England and Wales\n",
    "# Description page: \n",
    "# https://geoportal.statistics.gov.uk/datasets/output-area-to-lower-layer-super-output-area-to-middle-layer-super-output-area-to-local-authority-district-december-2011-lookup-in-england-and-wales\n",
    "url = \"https://opendata.arcgis.com/datasets/6ecda95a83304543bc8feedbd1a58303_0.csv\"\n",
    "path = os.path.join(\"data_as_provided\", \"lsoa_lad_lu.csv\")        \n",
    "download(url, path, force=True)        \n",
    "#unzip(path, \"data_as_provided\")"
   ]
  },
  {
   "cell_type": "code",
   "execution_count": null,
   "metadata": {},
   "outputs": [],
   "source": [
    "lad_lsoa_lu = pandas.read_csv(\n",
    "    os.path.join(\"data_as_provided\", \"lsoa_lad_lu.csv\"),\n",
    "    usecols=['LAD11NM', 'LAD11CD', 'LSOA11CD', 'LSOA11NM']) \\\n",
    "    .rename(columns={'LAD11NM': 'lad11nm', 'LAD11CD': 'lad11cd', 'LSOA11CD': 'lsoa11cd', 'LSOA11NM': 'lsoa11nm'}) \\\n",
    "    .sort_values(by=['lad11cd', 'lsoa11cd']) \\\n",
    "    .drop_duplicates(ignore_index=True)\n",
    "\n",
    "lad_cd_changes = pandas.read_csv(\n",
    "    os.path.join('data_as_provided', 'lad_nmcd_changes.csv'),\n",
    "    usecols=['lad11cd', 'lad16cd'])\n",
    "\n",
    "lad_lsoa_lu = lad_lsoa_lu.merge(lad_cd_changes, on='lad11cd')\n",
    "\n",
    "# England and Wales only (constrained by BRES/Nomis statistics)\n",
    "lad_lsoa_lu = lad_lsoa_lu[lad_lsoa_lu.lad11cd.str.startswith('E') | lad_lsoa_lu.lad11cd.str.startswith('W')]\n",
    "lad_lsoa_lu"
   ]
  },
  {
   "cell_type": "code",
   "execution_count": null,
   "metadata": {},
   "outputs": [],
   "source": [
    "# Expect this to include only Scotland and Northern Ireland\n",
    "set(lad_lsoa_lu.lad16cd) ^ set(lad_employment.lad_uk_2016)"
   ]
  },
  {
   "cell_type": "code",
   "execution_count": null,
   "metadata": {},
   "outputs": [],
   "source": [
    "# Expect this to be empty (all LSOAs shared)\n",
    "set(lad_lsoa_lu.lsoa11cd) ^ set(lsoa_employment.lsoa11cd)"
   ]
  },
  {
   "cell_type": "code",
   "execution_count": null,
   "metadata": {},
   "outputs": [],
   "source": [
    "# read total employment by LSOA\n",
    "lsoa_employment = pandas.read_csv(\n",
    "    os.path.join(\"data_as_provided\", \"bres-employment-by-lsoa-2015-2018.csv\"),\n",
    "    skiprows=lambda x: x in [0, 1, 2, 3, 4, 5, 6, 7, 9], # skip header comments\n",
    "    skipfooter=10, # skip footer comments and totals row\n",
    "    engine='python', # need to use this to be able to skip footer\n",
    "    dtype={'2015': 'int', '2016': 'int', '2017': 'int', '2018': 'int'}) \\\n",
    "    .drop(columns=[\"Unnamed: 2\", \"Unnamed: 4\", \"Unnamed: 6\", \"Unnamed: 8\"]) \\\n",
    "    .rename(columns={\"2011 super output area - lower layer\": \"lsoa\"})\n",
    "\n",
    "# split name, code\n",
    "lsoa_employment['lsoa11cd'] = lsoa_employment.lsoa.apply(lambda d: d.split(\" : \")[0])\n",
    "lsoa_employment.drop(columns=['lsoa'], inplace=True)\n",
    "lsoa_employment = lsoa_employment[['lsoa11cd', '2015', '2016', '2017', '2018']]\n",
    "\n",
    "# add LAD names/codes\n",
    "lsoa_employment = lsoa_employment.merge(\n",
    "    lad_lsoa_lu, \n",
    "    on='lsoa11cd', \n",
    "    validate='one_to_one')\n",
    "lsoa_employment.tail(1)"
   ]
  },
  {
   "cell_type": "code",
   "execution_count": null,
   "metadata": {},
   "outputs": [],
   "source": [
    "lsoa_to_lad_agg = lsoa_employment[['lad16cd', '2015', '2016', '2017', '2018']] \\\n",
    "    .groupby('lad16cd') \\\n",
    "    .sum() \\\n",
    "    .rename(columns={\n",
    "        '2015': '2015_lad', \n",
    "        '2016': '2016_lad', \n",
    "        '2017': '2017_lad', \n",
    "        '2018': '2018_lad', \n",
    "    })\n",
    "\n",
    "lsoa_to_lad_agg.tail(1)"
   ]
  },
  {
   "cell_type": "code",
   "execution_count": null,
   "metadata": {},
   "outputs": [],
   "source": [
    "df = lsoa_employment.merge(lsoa_to_lad_agg, on='lad16cd')\n",
    "df['prop15'] = df['2015'] / df['2015_lad']\n",
    "df['prop16'] = df['2016'] / df['2016_lad']\n",
    "df['prop17'] = df['2017'] / df['2017_lad']\n",
    "df['prop18'] = df['2018'] / df['2018_lad']\n",
    "proportions = df[['lsoa11cd', 'lad16cd', 'prop15', 'prop16', 'prop17', 'prop18']]\n",
    "proportions.tail(1)"
   ]
  },
  {
   "cell_type": "code",
   "execution_count": null,
   "metadata": {},
   "outputs": [],
   "source": [
    "projections = lad_employment.merge(proportions, left_on='lad_uk_2016', right_on='lad16cd') \\\n",
    "    .rename(columns={'employment': 'employment_lad_thousands'})\n",
    "\n",
    "proj_2015 = projections[projections.timestep == 2015].copy()\n",
    "proj_2016 = projections[projections.timestep == 2016].copy()\n",
    "proj_2017 = projections[projections.timestep == 2017].copy()\n",
    "proj_rest = projections[projections.timestep >= 2018].copy()\n",
    "\n",
    "proj_2015['employment'] = proj_2015.employment_lad_thousands * 1000 * proj_2015.prop15\n",
    "proj_2016['employment'] = proj_2016.employment_lad_thousands * 1000 * proj_2016.prop16\n",
    "proj_2017['employment'] = proj_2017.employment_lad_thousands * 1000 * proj_2017.prop17\n",
    "proj_rest['employment'] = proj_rest.employment_lad_thousands * 1000 * proj_rest.prop18\n",
    "\n",
    "projections = pandas \\\n",
    "    .concat([proj_2015, proj_2016, proj_2017, proj_rest]) \\\n",
    "    [['scenario', 'timestep', 'lsoa11cd', 'lad16cd', 'employment']]\n",
    "projections"
   ]
  },
  {
   "cell_type": "code",
   "execution_count": null,
   "metadata": {},
   "outputs": [],
   "source": [
    "projections.employment = projections.employment.round().astype(int)\n",
    "projections"
   ]
  },
  {
   "cell_type": "code",
   "execution_count": null,
   "metadata": {},
   "outputs": [],
   "source": [
    "set(lad_lsoa_lu.lad16cd.unique()) ^ set(projections.lad16cd.unique())"
   ]
  },
  {
   "cell_type": "code",
   "execution_count": null,
   "metadata": {},
   "outputs": [],
   "source": [
    "len(lad_lsoa_lu.lad16cd.unique()), len(projections.lad16cd.unique())"
   ]
  },
  {
   "cell_type": "code",
   "execution_count": null,
   "metadata": {},
   "outputs": [],
   "source": [
    "len(lad_lsoa_lu.lsoa11cd.unique()), len(projections.lsoa11cd.unique())"
   ]
  },
  {
   "cell_type": "code",
   "execution_count": null,
   "metadata": {},
   "outputs": [],
   "source": [
    "# check length\n",
    "expected_length = 34753 * 36 * 4\n",
    "msg = f\"Expected {len(projections)} == {expected_length} LSOAs * years * scenarios\"\n",
    "assert len(projections) == expected_length, msg"
   ]
  },
  {
   "cell_type": "code",
   "execution_count": null,
   "metadata": {},
   "outputs": [],
   "source": [
    "projections.to_csv(os.path.join('data_processed', 'ew_employment_lsoa.csv.gz'), index=False)"
   ]
  },
  {
   "cell_type": "code",
   "execution_count": null,
   "metadata": {},
   "outputs": [],
   "source": [
    "projections.groupby(['timestep', 'scenario']).sum()"
   ]
  },
  {
   "cell_type": "code",
   "execution_count": null,
   "metadata": {},
   "outputs": [],
   "source": [
    "arc_lads = geopandas.read_file(os.path.join('data_as_provided', 'arc_lad_uk16.gpkg'))"
   ]
  },
  {
   "cell_type": "code",
   "execution_count": null,
   "metadata": {},
   "outputs": [],
   "source": [
    "arc_lad_codes = arc_lads[arc_lads.in_arc == 1].name.unique()"
   ]
  },
  {
   "cell_type": "code",
   "execution_count": null,
   "metadata": {},
   "outputs": [],
   "source": [
    "arc_projections = projections[projections.lad16cd.isin(arc_lad_codes)]"
   ]
  },
  {
   "cell_type": "code",
   "execution_count": null,
   "metadata": {},
   "outputs": [],
   "source": [
    "arc_projections.to_csv(os.path.join('data_processed', 'arc_employment_lsoa.csv.gz'), index=False)"
   ]
  }
 ],
 "metadata": {
  "kernelspec": {
   "display_name": "Python 3",
   "language": "python",
   "name": "python3"
  },
  "language_info": {
   "codemirror_mode": {
    "name": "ipython",
    "version": 3
   },
   "file_extension": ".py",
   "mimetype": "text/x-python",
   "name": "python",
   "nbconvert_exporter": "python",
   "pygments_lexer": "ipython3",
   "version": "3.7.6"
  }
 },
 "nbformat": 4,
 "nbformat_minor": 4
}
